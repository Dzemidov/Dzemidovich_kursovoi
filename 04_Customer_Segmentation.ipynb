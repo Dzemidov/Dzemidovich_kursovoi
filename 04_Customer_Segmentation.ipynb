{
 "cells": [
  {
   "cell_type": "code",
   "execution_count": 1,
   "id": "b8f82efa-72c1-4b35-be84-5d83f73af9ca",
   "metadata": {},
   "outputs": [],
   "source": [
    "import pandas as pd\n",
    "import numpy as np\n",
    "import matplotlib.pyplot as plt\n",
    "import seaborn as sns\n",
    "from prophet import Prophet\n",
    "from sklearn.cluster import KMeans\n",
    "from datetime import datetime\n",
    "import uuid"
   ]
  },
  {
   "cell_type": "code",
   "execution_count": 3,
   "id": "ff841393-e1e0-4c36-a277-913aaa85ac98",
   "metadata": {},
   "outputs": [],
   "source": [
    "df = pd.read_parquet('processed_orders.parquet')"
   ]
  },
  {
   "cell_type": "code",
   "execution_count": 4,
   "id": "747aca59-b9f1-4965-a208-8829455a5ba4",
   "metadata": {},
   "outputs": [],
   "source": [
    "# Unit Economics\n",
    "customer_metrics = df.groupby('Код клиента').agg({\n",
    "    'Сумма, BYN': 'sum',\n",
    "    'Profit': 'sum',\n",
    "    'Дата': ['count', 'max']\n",
    "}).reset_index()\n",
    "customer_metrics.columns = ['Код клиента', 'Общая выручка', 'Общая прибыль', 'Количество заказов', 'Последняя покупка']\n",
    "customer_metrics['Средняя прибыль на заказ'] = customer_metrics['Общая прибыль'] / customer_metrics['Количество заказов']"
   ]
  },
  {
   "cell_type": "code",
   "execution_count": 5,
   "id": "37b16d1c-c894-46ff-b843-3771cad1a28a",
   "metadata": {},
   "outputs": [],
   "source": [
    "# RFM-анализ\n",
    "current_date = df['Дата'].max()\n",
    "customer_metrics['Recency'] = (current_date - customer_metrics['Последняя покупка']).dt.days\n",
    "customer_metrics['Frequency'] = customer_metrics['Количество заказов']\n",
    "customer_metrics['Monetary'] = customer_metrics['Общая прибыль']\n"
   ]
  },
  {
   "cell_type": "code",
   "execution_count": 6,
   "id": "9f17eb5f-8e7a-4d51-9d66-e65935afa9ed",
   "metadata": {},
   "outputs": [],
   "source": [
    "# Определение RFM-сегментов\n",
    "quantiles = customer_metrics[['Recency', 'Frequency', 'Monetary']].quantile([0.25, 0.5, 0.75])\n",
    "def rfm_score(x, metric, quantiles):\n",
    "    if metric == 'Recency':\n",
    "        if x <= quantiles[metric][0.25]:\n",
    "            return 4\n",
    "        elif x <= quantiles[metric][0.5]:\n",
    "            return 3\n",
    "        elif x <= quantiles[metric][0.75]:\n",
    "            return 2\n",
    "        else:\n",
    "            return 1\n",
    "    else:  # Frequency, Monetary\n",
    "        if x >= quantiles[metric][0.75]:\n",
    "            return 4\n",
    "        elif x >= quantiles[metric][0.5]:\n",
    "            return 3\n",
    "        elif x >= quantiles[metric][0.25]:\n",
    "            return 2\n",
    "        else:\n",
    "            return 1\n",
    "\n",
    "customer_metrics['R_Score'] = customer_metrics['Recency'].apply(rfm_score, args=('Recency', quantiles))\n",
    "customer_metrics['F_Score'] = customer_metrics['Frequency'].apply(rfm_score, args=('Frequency', quantiles))\n",
    "customer_metrics['M_Score'] = customer_metrics['Monetary'].apply(rfm_score, args=('Monetary', quantiles))\n",
    "customer_metrics['RFM_Score'] = customer_metrics['R_Score'] + customer_metrics['F_Score'] + customer_metrics['M_Score']\n",
    "customer_metrics['RFM_Segment'] = customer_metrics['RFM_Score'].apply(\n",
    "    lambda x: 'Чемпионы' if x >= 10 else 'Лояльные' if x >= 7 else 'Риск ухода' if x >= 4 else 'Потерянные'\n",
    ")"
   ]
  },
  {
   "cell_type": "code",
   "execution_count": 7,
   "id": "ace9a790-3c5a-4320-b397-396d31bbce87",
   "metadata": {},
   "outputs": [],
   "source": [
    "# ABC-анализ клиентов\n",
    "customer_metrics = customer_metrics.sort_values('Общая прибыль', ascending=False)\n",
    "customer_metrics['Кумулятивная прибыль'] = customer_metrics['Общая прибыль'].cumsum()\n",
    "total_profit = customer_metrics['Общая прибыль'].sum()\n",
    "customer_metrics['Процент кумулятивной прибыли'] = customer_metrics['Кумулятивная прибыль'] / total_profit\n",
    "customer_metrics['ABC'] = pd.cut(\n",
    "    customer_metrics['Процент кумулятивной прибыли'],\n",
    "    bins=[0, 0.2, 0.5, 1.0],\n",
    "    labels=['A', 'B', 'C']\n",
    ")"
   ]
  },
  {
   "cell_type": "code",
   "execution_count": 8,
   "id": "88c557a9-88db-44d7-ac20-8114721e4800",
   "metadata": {},
   "outputs": [],
   "source": [
    "# XYZ-анализ клиентов\n",
    "customer_orders = df.groupby(['Код клиента', 'Month'])['Profit'].sum().reset_index()\n",
    "cv = customer_orders.groupby('Код клиента')['Profit'].std() / customer_orders.groupby('Код клиента')['Profit'].mean()\n",
    "customer_metrics = customer_metrics.merge(cv.rename('CV'), on='Код клиента', how='left')\n",
    "customer_metrics['CV'] = customer_metrics['CV'].fillna(0)\n",
    "customer_metrics['XYZ'] = pd.cut(\n",
    "    customer_metrics['CV'],\n",
    "    bins=[0, 0.25, 0.5, np.inf],\n",
    "    labels=['X', 'Y', 'Z']\n",
    ")"
   ]
  },
  {
   "cell_type": "code",
   "execution_count": 11,
   "id": "30d731fc-daa8-4af7-831f-cd4bf66f76a2",
   "metadata": {},
   "outputs": [],
   "source": [
    "customer_metrics.to_csv('/home/roman/PycharmProjects/Dzemidovich_kursovoi/results/customer_segments.csv', index=False)"
   ]
  },
  {
   "cell_type": "code",
   "execution_count": null,
   "id": "d2138dcc-8c2d-4941-b306-6947ad5b1513",
   "metadata": {},
   "outputs": [],
   "source": []
  }
 ],
 "metadata": {
  "kernelspec": {
   "display_name": "Python 3 (ipykernel)",
   "language": "python",
   "name": "python3"
  },
  "language_info": {
   "codemirror_mode": {
    "name": "ipython",
    "version": 3
   },
   "file_extension": ".py",
   "mimetype": "text/x-python",
   "name": "python",
   "nbconvert_exporter": "python",
   "pygments_lexer": "ipython3",
   "version": "3.12.3"
  }
 },
 "nbformat": 4,
 "nbformat_minor": 5
}
